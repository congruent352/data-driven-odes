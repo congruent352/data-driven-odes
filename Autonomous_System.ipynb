{
  "nbformat": 4,
  "nbformat_minor": 0,
  "metadata": {
    "kernelspec": {
      "display_name": "Python 3",
      "language": "python",
      "name": "python3"
    },
    "language_info": {
      "codemirror_mode": {
        "name": "ipython",
        "version": 3
      },
      "file_extension": ".py",
      "mimetype": "text/x-python",
      "name": "python",
      "nbconvert_exporter": "python",
      "pygments_lexer": "ipython3",
      "version": "3.8.3"
    },
    "colab": {
      "name": "Autonomous System.ipynb",
      "provenance": [],
      "include_colab_link": true
    }
  },
  "cells": [
    {
      "cell_type": "markdown",
      "metadata": {
        "id": "view-in-github",
        "colab_type": "text"
      },
      "source": [
        "<a href=\"https://colab.research.google.com/github/congruent352/data-driven-odes/blob/master/Autonomous_System.ipynb\" target=\"_parent\"><img src=\"https://colab.research.google.com/assets/colab-badge.svg\" alt=\"Open In Colab\"/></a>"
      ]
    },
    {
      "cell_type": "markdown",
      "metadata": {
        "id": "21iVVltJIFsZ"
      },
      "source": [
        "# **[Data driven governing equations approximation using deep neural networks](https://www.researchgate.net/publication/333883271_Data_driven_governing_equations_approximation_using_deep_neural_networks)**\n",
        "\n",
        "\n",
        "## **Contents**<a name = \"contents\"></a>\n",
        "\n",
        "**[1. Main Idea](#1)**\n",
        "\n",
        "**[2. Example 1](#ex1)**\n",
        "\n",
        "**[3. Example 2](#ex2)**\n",
        "\n",
        "**[4. Example 3](#ex3)**\n",
        "\n",
        "**[5. Example 4](#ex4)**\n"
      ]
    },
    {
      "cell_type": "markdown",
      "metadata": {
        "id": "ZZLJEiToIFsg"
      },
      "source": [
        "## **[Main idea](#contents)**<a name = \"1\"></a>\n",
        "\n",
        "**Problem**\n",
        "\n",
        "> Consider a system of ordinary differential equations $$ \\dot{\\mathbf{x}} = f(\\mathbf{x})$$ and assume that $f$ is unknown. When given time trajectory data, we want to make an approximation to the **solution**, not $f$ itself.\n",
        "\n",
        "**Assumption**\n",
        "\n",
        "> 1. We assume that the function $f$ is unknown.\n",
        ">\n",
        "> 2. The system is autonomous, meaning that $f$ does not depend on $t$ explicitly.\n",
        ">\n",
        "> 3. Time trajectory data is available. Uniform time lag assumption is not needed, but for the convenience of expression, we adopt uniform time lag for the time being. Later, we will see the method presented is still applicable to non-uniform time lag samples.\n",
        "\n",
        "**Methodology**\n",
        "\n",
        "> Consider the forward problem first, that is, assume that the right-hand-side function $f$ is available. To predict the next point, we may use numerical solvers for example Forward Euler Method or Runge-Kutta Method. Let's think of the Forward Euler Method. With the current state $ \\mathbf{x}(t_{\\text{now}}$, we can write the next state (or prediction) $\\mathbf{x}(t_{\\text{next}})$ as follow\n",
        "$$\\mathbf{x}(t_{\\text{next}}) = \\mathbf{x}(t_{\\text{now}}) + \\Delta t f(\\mathbf{x}(t_{\\text{now}})). \\tag{1}$$\n",
        "Here, $\\Delta t = t_{\\text{next}} - t_{\\text{now}}$ is the time lag.\n",
        "\n",
        "> Now, let's get back to the inverse problem. In terms of machine learning problem, the right-hand-side of the equation (1) is the function to be learned, especially when the input is $\\mathbf{x}(t_{\\text{now}})$. Then we only need to approximate $\\Delta t f(\\mathbf{x}(t_{\\text{now}}))$ part. As a result, we will use neural network $\\mathcal{N}$ and approximate the next state in the following way:\n",
        "\\begin{align*}\n",
        "\\mathbf{x}(t_{\\text{next}}) & = \\mathbf{x}(t_{\\text{now}}) + \\Delta t f(\\mathbf{x}(t_{\\text{now}}))\n",
        "\\\\ & \\approx \\mathbf{x}(t_{\\text{now}}) + \\mathcal{N}(\\mathbf{x}(t_{\\text{now}})) \\tag{2}\n",
        "\\end{align*}\n",
        ">\n",
        "> The structure of the rhs of equation (2) is **Residual Network**. So building the ResNet to make a prediction, we can compare the output with the true state and thus $L^2$ loss can be computed. The details for training will be given in the examples.\n",
        "\n",
        "Remark\n",
        "\n",
        "The paper contains other structures called **Recurrent ResNet** and **Recursive ResNet**. They are the variants of the ResNet structure, so here I just omit them. For details, refer the [paper](https://www.researchgate.net/publication/333883271_Data_driven_governing_equations_approximation_using_deep_neural_networks)\n",
        "\n",
        "**Advantage**\n",
        "\n",
        "> There are many different methods regarding inverse ode problems including **SINDy** and **PINN**,\n",
        ">\n",
        "> **SINDy** requires the information of gradient which can be expensive in practice. When noise considered, the gradient data has significant error, especially SINDy employs the finite difference scheme for the gradient. This idea of using residual network can avoid using gradient information, hence lowering the cost and can be more robust to noisy data.\n",
        ">\n",
        "> **PINN** requires strong prior knowledge to the form of equations. In the original paper, the equations were assumed to be known except for just few parameters. However, this paper makes only one assumption, that is, the system has to be autonomous. Without the explicit dependency on $t$, no further conditions on the number of parameters or the form of equations is required.\n",
        ">\n",
        "> In sum, this method is parsimonious and applicable to general cases without strong prior knowledge.\n",
        "\n",
        "---\n",
        "\n",
        "### **Training**\n",
        "\n",
        "In practice, when a long trajectory is given, we slice the trajectory into short trajectories with length two. For example, if we have $\\{x(t_i)\\}_{i=1}^{n}$, then we collect $$ \\{(x(t_i), x(t_{i+1}))\\}_{i=1}^{n-1}$$\n",
        "where the first component is an input and the second component is an output. Likewise, in the experiment we will randomly sample the initial points and then using the numerical scheme we will collect the corresponding labels."
      ]
    },
    {
      "cell_type": "markdown",
      "metadata": {
        "id": "5HBaLFqaIFsi"
      },
      "source": [
        "## **[Example 1](#contents)**<a name = \"ex1\"></a>\n",
        "\n",
        "$$\\Large \\begin{cases} \\dot{x}_1 & = x_1 + x_2 - 2 \\\\ \\dot{x_2} & = x_1 - x_2 \\end{cases}$$\n",
        "\n",
        "\n",
        "\n",
        "\n",
        "> **Computational Domain:** $D = [0,2]^2$\n",
        ">\n",
        "> **Time lag:** $\\Delta = 0.1$\n",
        ">\n",
        "> **Mini-batch of size 10** and **shuffle after every epoch**\n",
        ">\n",
        "> **ResNet Structure:** 2 - 30 - 30 - 30 - 2, activated by $\\tanh$\n",
        ">\n",
        "> **The number of samples:** Roughly mentioned. 5~10 times of the number of paraeters (about 2,000). So I sampled 10,000 points.\n",
        ">\n",
        "> **Optimizer:** Not mentioned, so I just used **ADAM** optimizer\n",
        "\n",
        "### **Sample the training data from the dynamics**\n",
        "\n",
        "At first, I will sample the training data from the ground true dynamics."
      ]
    },
    {
      "cell_type": "code",
      "metadata": {
        "id": "JCF3402pIFsi"
      },
      "source": [
        "import numpy as np\n",
        "import matplotlib.pyplot as plt\n",
        "%matplotlib inline\n",
        "import scipy as sp\n",
        "from scipy import integrate\n",
        "import copy\n",
        "import time\n",
        "import torch\n",
        "import torch.nn as nn\n",
        "\n",
        "\n",
        "torch.manual_seed(1234)\n",
        "np.random.seed(1234)\n",
        "\n",
        "# The number of training data\n",
        "\n",
        "nb = 10000\n",
        "\n",
        "# Time lag. (It doesn't need to be uniform. Example 2 has non-uniform time lag)\n",
        "\n",
        "dt = 0.1\n",
        "\n",
        "# Noise level (%)\n",
        "\n",
        "noise = 5\n",
        "\n",
        "def sol(t, y, dt):\n",
        "    \n",
        "    # response function\n",
        "    def func(t,y):\n",
        "        a = y[0] + y[1] -2\n",
        "        b = y[0] - y[1] \n",
        "        return np.array([a,b])\n",
        "    \n",
        "    a = sp.integrate.solve_ivp(func, t_span = (t, t+ dt), y0 = y, method = 'RK45', t_eval = np.linspace(t, t + dt, 2))\n",
        "    return a.y[:,1]\n",
        "\n",
        "\n",
        "# Initial point, computational domain is [0,2]^2.\n",
        "x = 2*np.random.random(nb).reshape((-1,1))\n",
        "y = 2*np.random.random(nb).reshape((-1,1))\n",
        "\n",
        "x0 = np.concatenate([x,y], axis = 1)\n",
        "x1 = np.zeros_like(x0)\n",
        "for i in range(nb):\n",
        "    z = x0[i, :]\n",
        "    x1[i,:] = sol(0, z, dt)\n",
        "    \n",
        "def get_noisy(x, noise_level, method = 'mini-max'):\n",
        "    if method == 'mini-max':\n",
        "        a = np.max(x, axis = 0) - np.min(x, axis = 0)\n",
        "        a = a * np.random.normal(0, noise_level / 100, size = x.shape)\n",
        "    elif method == 'random':\n",
        "        a = np.random.normal(0, 1, size = x.shape)\n",
        "    return a + x\n",
        "\n",
        "noisy_x0 = torch.Tensor(get_noisy(x0, noise))\n",
        "noisy_x1 = torch.Tensor(get_noisy(x1, noise))\n",
        "x0 = torch.Tensor(x0) # Initial points\n",
        "x1 = torch.Tensor(x1) # End points"
      ],
      "execution_count": null,
      "outputs": []
    },
    {
      "cell_type": "markdown",
      "metadata": {
        "id": "f0doWUYJIFsj"
      },
      "source": [
        "### **Define the model**\n",
        "\n",
        "The resnet block structure is 2 - Tanh - 30 - Tanh - 30 - Tanh - 30 - Tanh - 2, so I used [2, 30, 30, 30, 2] for the layer and Tanh for the activation."
      ]
    },
    {
      "cell_type": "code",
      "metadata": {
        "id": "u9rzwlMHIFsk",
        "outputId": "c6c22a92-5c74-47af-f08c-8038b875d777"
      },
      "source": [
        "from models import resnet, prediction\n",
        "\n",
        "layers = [2, 30, 30, 30, 2]\n",
        "activation = nn.Tanh()\n",
        "N = resnet(layers, activation)\n",
        "\n",
        "def loss(x,y):\n",
        "    hypothesis = N(x)\n",
        "    mse = torch.mean((hypothesis - y)**2)\n",
        "    return mse\n",
        "\n",
        "epochs = 1000\n",
        "history = []\n",
        "learning_rate = 5e-2\n",
        "\n",
        "# Optimize\n",
        "optimizer = torch.optim.Adam(N.parameters(), lr = learning_rate)\n",
        "\n",
        "\n",
        "# Run the optimizer\n",
        "def closure():\n",
        "    optimizer.zero_grad()\n",
        "    l = loss(x0, x1)\n",
        "    l.backward()\n",
        "    return l\n",
        "\n",
        "\n",
        "t1 = time.time()\n",
        "for i in range(epochs):\n",
        "    optimizer.step(closure)\n",
        "    if i%100 == 0:\n",
        "        with torch.no_grad():\n",
        "            print('Epoch = {0} / {1}, Loss = {2}'.format(i,epochs,loss(x0, x1).numpy()))\n",
        "    with torch.no_grad():\n",
        "        history.append(loss(x0,x1).numpy())\n",
        "t2 = time.time()\n",
        "print(t2 - t1)"
      ],
      "execution_count": null,
      "outputs": [
        {
          "output_type": "stream",
          "text": [
            "Epoch = 0 / 1000, Loss = 4.462375164031982\n",
            "Epoch = 100 / 1000, Loss = 0.0033875247463583946\n",
            "Epoch = 200 / 1000, Loss = 0.0018222254002466798\n",
            "Epoch = 300 / 1000, Loss = 0.0016861549811437726\n",
            "Epoch = 400 / 1000, Loss = 0.0012351562036201358\n",
            "Epoch = 500 / 1000, Loss = 0.009605282917618752\n",
            "Epoch = 600 / 1000, Loss = 0.0009533994598314166\n",
            "Epoch = 700 / 1000, Loss = 0.000787219381891191\n",
            "Epoch = 800 / 1000, Loss = 0.0021804622374475002\n",
            "Epoch = 900 / 1000, Loss = 0.0007896219030953944\n",
            "30.440919637680054\n"
          ],
          "name": "stdout"
        }
      ]
    },
    {
      "cell_type": "markdown",
      "metadata": {
        "id": "0qHvZD_FIFsn"
      },
      "source": [
        "### **Training History**"
      ]
    },
    {
      "cell_type": "code",
      "metadata": {
        "id": "XWVmlpCHIFsn",
        "outputId": "3796c0e4-8727-44df-8ca9-1e63176ed15c"
      },
      "source": [
        "plt.semilogy(history)\n",
        "plt.ylabel('Loss')\n",
        "plt.xlabel('Epoch')\n",
        "plt.title('Training History')\n",
        "plt.show()"
      ],
      "execution_count": null,
      "outputs": [
        {
          "output_type": "display_data",
          "data": {
            "image/png": "[encoded data removed]",
            "text/plain": [
              "<Figure size 432x288 with 1 Axes>"
            ]
          },
          "metadata": {
            "tags": [],
            "needs_background": "light"
          }
        }
      ]
    },
    {
      "cell_type": "markdown",
      "metadata": {
        "id": "jUp9NXY4IFso"
      },
      "source": [
        "### **Prediction**\n",
        "\n",
        "We use time-marching to test the performance of the model. That is, for given $x_0 = (1.5, 0)$, we predict $x_1$ and based on the prediction $x_1$, we apply the model again to obtain the next prediction $x_2$. Likewise, we will generate the point from $t=0$ to $t=2$ with same time lag $\\Delta = 0.1$."
      ]
    },
    {
      "cell_type": "code",
      "metadata": {
        "id": "86JNHtigIFso"
      },
      "source": [
        "class prediction_():\n",
        "    def prediction_(net, x0, dt, nb):\n",
        "        '''\n",
        "        net: model / x0: initial point / dt: time-lag / nb: number of samples needed\n",
        "        '''\n",
        "        if type(x0) == list:\n",
        "            shape = len(x0)\n",
        "        else:\n",
        "            shape = x0.shape[0]\n",
        "        pred = np.zeros((nb+1, shape))\n",
        "        pred[0,:] = x0\n",
        "        for i in range(nb):\n",
        "            next_point = net(torch.Tensor(pred[i,:]), dt)\n",
        "            pred[i+1,:] = next_point.detach().numpy()\n",
        "            del next_point\n",
        "        return pred"
      ],
      "execution_count": null,
      "outputs": []
    },
    {
      "cell_type": "code",
      "metadata": {
        "id": "wL0-YsjJIFsp",
        "outputId": "ee821920-2ec5-4ed6-8992-a4256a65238a"
      },
      "source": [
        "# Still revising\n",
        "\n",
        "initial_point = [1.5, 0]\n",
        "dt = 0.1\n",
        "nb = 20\n",
        "\n",
        "\n",
        "# Generating the Reference Trajectory\n",
        "\n",
        "reference = np.zeros((nb+1, 2))\n",
        "reference[0, :] = initial_point\n",
        "t = [0]\n",
        "for i in range(nb):\n",
        "    z = reference[i,:]\n",
        "    reference[i+1, :] = sol(0, z, dt)\n",
        "    t.append(t[-1] + dt)\n",
        "    \n",
        "    \n",
        "a = prediction_.prediction_(N, initial_point, dt, nb)\n",
        "\n",
        "f, axes = plt.subplots(2, 2, figsize = (10, 10))\n",
        "axes[0,0].plot(reference[:,0], reference[:,1], label = 'reference')\n",
        "axes[0,0].plot(a[:,0], a[:,1], label = 'prediction')\n",
        "axes[0,0].set_xlabel('$x$')\n",
        "axes[0,0].set_ylabel('$y$')\n",
        "axes[0,0].set_title('Phase plot')\n",
        "axes[0,0].legend()\n",
        "\n",
        "axes[0,1].plot(t, reference[:,0], label = 'reference $x_1$')\n",
        "axes[0,1].plot(t, reference[:,1], label = 'reference $x_2$')\n",
        "axes[0,1].plot(t, a[:,0], label = 'prediction $x_1$')\n",
        "axes[0,1].plot(t, a[:,1], label = 'prediction $x_2$')\n",
        "axes[0,1].set_xlabel('$t$')\n",
        "axes[0,1].set_ylabel('$x_1, x_2$')\n",
        "axes[0,1].set_title('Time-trajectory')\n",
        "axes[0,1].legend()\n",
        "\n",
        "axes[1,0].semilogy(history)\n",
        "axes[1,0].plot(a[:,0], a[:,1], label = 'prediction')\n",
        "axes[1,0].set_xlabel('$x$')\n",
        "axes[1,0].set_ylabel('$y$')\n",
        "axes[1,0].set_title('Phase plot')\n",
        "axes[1,0].legend()\n",
        "\n",
        "axes[1,1].plot(reference[:,0], reference[:,1], label = 'reference')\n",
        "axes[1,1].plot(a[:,0], a[:,1], label = 'prediction')\n",
        "axes[1,1].set_xlabel('$x$')\n",
        "axes[1,1].set_ylabel('$y$')\n",
        "axes[1,1].set_title('Phase plot')\n",
        "axes[1,1].legend()\n",
        "f.suptitle('')\n",
        "plt.show()"
      ],
      "execution_count": null,
      "outputs": [
        {
          "output_type": "display_data",
          "data": {
            "image/png": "[encoded data removed]",
            "text/plain": [
              "<Figure size 720x720 with 4 Axes>"
            ]
          },
          "metadata": {
            "tags": [],
            "needs_background": "light"
          }
        }
      ]
    },
    {
      "cell_type": "code",
      "metadata": {
        "id": "lszDGH7pIFsp",
        "outputId": "fda6da63-9da9-4d4b-a692-14f10b458289"
      },
      "source": [
        "reference.shape"
      ],
      "execution_count": null,
      "outputs": [
        {
          "output_type": "execute_result",
          "data": {
            "text/plain": [
              "(21, 2)"
            ]
          },
          "metadata": {
            "tags": []
          },
          "execution_count": 57
        }
      ]
    },
    {
      "cell_type": "code",
      "metadata": {
        "id": "uQUPdmL1IFsq"
      },
      "source": [
        ""
      ],
      "execution_count": null,
      "outputs": []
    }
  ]
}